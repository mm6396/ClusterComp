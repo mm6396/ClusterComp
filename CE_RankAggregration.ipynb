{
  "nbformat": 4,
  "nbformat_minor": 0,
  "metadata": {
    "colab": {
      "provenance": [],
      "authorship_tag": "ABX9TyOtZ9lRmwPjnNBSGo++2Ifa",
      "include_colab_link": true
    },
    "kernelspec": {
      "name": "python3",
      "display_name": "Python 3"
    },
    "language_info": {
      "name": "python"
    }
  },
  "cells": [
    {
      "cell_type": "markdown",
      "metadata": {
        "id": "view-in-github",
        "colab_type": "text"
      },
      "source": [
        "<a href=\"https://colab.research.google.com/github/mm6396/ClusterComp/blob/main/CE_RankAggregration.ipynb\" target=\"_parent\"><img src=\"https://colab.research.google.com/assets/colab-badge.svg\" alt=\"Open In Colab\"/></a>"
      ]
    },
    {
      "cell_type": "code",
      "source": [
        "import numpy as np\n",
        "import scipy.sparse as sp\n",
        "import itertools\n",
        "import numpy as np\n",
        "from __future__ import division\n",
        "from timeit import default_timer as time\n",
        "from cylp.cy import CyClpSimplex\n",
        "from cylp.py.pivots import PositiveEdgePivot\n",
        "import importlib\n",
        "import itertools\n",
        "import numpy as np\n",
        "import scipy.sparse as sp\n",
        "#from utils import combs, perms\n",
        "#from fairlearn.reductions import extended_condorcet_simple\n",
        "\n",
        "def extended_condorcet_simple(rankings):\n",
        "\n",
        "    # assumes: cands -> 0,N-1\n",
        "    n = rankings.shape[1]\n",
        "    cands = np.arange(n)\n",
        "    pairs = combs(range(n), 2)\n",
        "\n",
        "    condorcet_rows, condorcet_cols = [], []\n",
        "\n",
        "    for cand, other_cand in pairs:\n",
        "        cand_pos = np.where(rankings == cand)[1]\n",
        "        other_pos = np.where(rankings == other_cand)[1]\n",
        "\n",
        "        if np.all(cand_pos < other_pos):\n",
        "            condorcet_rows.append(cand)\n",
        "            condorcet_cols.append(other_cand)\n",
        "        elif np.all(other_pos < cand_pos):\n",
        "            condorcet_rows.append(other_cand)\n",
        "            condorcet_cols.append(cand)\n",
        "\n",
        "    mat = sp.coo_matrix((np.ones(len(condorcet_rows)), (condorcet_rows, condorcet_cols)))\n",
        "    return mat\n",
        "\n",
        "def combs(a, r):\n",
        "    \"\"\"\n",
        "    Return successive r-length combinations of elements in the array a.\n",
        "    Should produce the same output as array(list(combinations(a, r))), but\n",
        "    faster.\n",
        "    \"\"\"\n",
        "    a = np.asarray(a)\n",
        "    dt = np.dtype([('', a.dtype)]*r)\n",
        "    b = np.fromiter(itertools.combinations(a, r), dt)\n",
        "    b_ = b.view(a.dtype).reshape(-1, r)\n",
        "    return b_\n",
        "\n",
        "def perms(a, r):\n",
        "    \"\"\"\n",
        "    Same as above with permutations\n",
        "    \"\"\"\n",
        "    a = np.asarray(a)\n",
        "    dt = np.dtype([('', a.dtype)]*r)\n",
        "    b = np.fromiter(itertools.permutations(a, r), dt)\n",
        "    b_ = b.view(a.dtype).reshape(-1, r)\n",
        "    return b_\n",
        "\n",
        "class KemenyRanking():\n",
        "    def __init__(self, fp, verbose=True, condorcet_red=True):\n",
        "        self.verbose = verbose\n",
        "        self.condorcet_red = True\n",
        "        self.parse_file(fp)\n",
        "        self.build_Q()\n",
        "        self.solve_ilp()\n",
        "        self.postprocess()\n",
        "        self.print_sol()\n",
        "\n",
        "    def parse_file(self, fp):\n",
        "        \"\"\" Reads and preprocesses input \"\"\"\n",
        "        # TODO add checks\n",
        "        # TODO add specification\n",
        "        if self.verbose:\n",
        "            print('Parse input')\n",
        "\n",
        "        with open(fp) as file:\n",
        "            content = file.readlines()\n",
        "            content = [x.strip() for x in content]                          # remove newlines\n",
        "            content = [x.replace(':', '') for x in content]                 # remove \":\"\n",
        "            content = [np.array(x.split(), dtype=object) for x in content]  # split line into list\n",
        "                                                                            # -> array\n",
        "\n",
        "            raw_arr = np.array(content)\n",
        "            self.voters_raw = raw_arr[:, 0]\n",
        "            self.votes_raw = raw_arr[:, 1:]\n",
        "\n",
        "            # Map to 0, N -> only votes!\n",
        "            self.orig2id = {}\n",
        "            self.id2orig = {}\n",
        "            id_ = 0\n",
        "            for i in np.unique(self.votes_raw):\n",
        "                self.orig2id[i] = id_\n",
        "                self.id2orig[id_] = i\n",
        "                id_ += 1\n",
        "            self.votes_arr = np.vectorize(self.orig2id.get)(self.votes_raw)\n",
        "\n",
        "        if self.verbose:\n",
        "            print('     ... finished')\n",
        "\n",
        "            print('Problem statistics')\n",
        "            print('  {} votes'.format(self.votes_arr.shape[0]))\n",
        "            print('  {} candidates'.format(self.votes_arr.shape[1]))\n",
        "\n",
        "    def build_Q(self):\n",
        "        \"\"\" Creates incidence-matrix: form used in MIP-model \"\"\"\n",
        "        if self.verbose:\n",
        "            print('Build incidence-matrix')\n",
        "\n",
        "        N, n = self.votes_arr.shape                                              # N votes, n cands\n",
        "        self.Q = np.zeros((n,n))\n",
        "        for a,b in itertools.combinations(range(n), 2):\n",
        "            a_pos = np.where(self.votes_arr == a)[1]\n",
        "            b_pos = np.where(self.votes_arr == b)[1]\n",
        "            plus = np.count_nonzero(a_pos < b_pos)\n",
        "            minus = np.count_nonzero(a_pos > b_pos)\n",
        "            self.Q[a,b] = plus\n",
        "            self.Q[b,a] = minus\n",
        "\n",
        "        if self.verbose:\n",
        "            print('     ... finished')\n",
        "\n",
        "    def solve_ilp(self):\n",
        "        \"\"\" Solves problem exactly using MIP/ILP approach\n",
        "            Used solver: CoinOR CBC\n",
        "            Incidence-matrix Q holds complete information needed for opt-process\n",
        "        \"\"\"\n",
        "        if self.verbose:\n",
        "            print('Solve: build model')\n",
        "\n",
        "        if self.condorcet_red:\n",
        "            condorcet_red_mat = extended_condorcet_simple(self.votes_arr)\n",
        "\n",
        "        n = self.Q.shape[0]\n",
        "        x_n = n*n\n",
        "\n",
        "        model = CyClpSimplex()                                           # MODEL\n",
        "        x = model.addVariable('x', x_n, isInt=True)                      # VARS\n",
        "\n",
        "        model.objective = self.Q.ravel()                                 # OBJ\n",
        "\n",
        "        # x_ab = boolean (already int; need to constrain to [0,1])\n",
        "        model += sp.eye(x_n) * x >= np.zeros(x_n)\n",
        "        model += sp.eye(x_n) * x <= np.ones(x_n)\n",
        "\n",
        "        idx = lambda i, j: np.ravel_multi_index((i, j), (n,n))\n",
        "\n",
        "        # constraints for every pair\n",
        "        start_time = time()\n",
        "        n_pairwise_constr = n*(n-1)//2\n",
        "        if self.verbose:\n",
        "            print('  # pairwise constr: ', n_pairwise_constr)\n",
        "\n",
        "        # Somewhat bloated just to get some vectorization / speed !\n",
        "        combs_ = combs(range(n), 2)\n",
        "\n",
        "        inds_a = np.ravel_multi_index(combs_.T, (n, n))\n",
        "        inds_b = np.ravel_multi_index(combs_.T[::-1], (n, n))\n",
        "\n",
        "        row_inds = np.tile(np.arange(n_pairwise_constr), 2)\n",
        "        col_inds = np.hstack((inds_a, inds_b))\n",
        "\n",
        "        pairwise_constraints = sp.coo_matrix((np.ones(n_pairwise_constr*2),\n",
        "                                              (row_inds, col_inds)),\n",
        "                                              shape=(n_pairwise_constr, n*n))\n",
        "        end_time = time()\n",
        "        if self.verbose:\n",
        "            print(\"    Took {:.{prec}f} secs\".format(end_time - start_time, prec=3))\n",
        "\n",
        "        # and for every cycle of length 3\n",
        "        start_time = time()\n",
        "        n_triangle_constrs = n*(n-1)*(n-2)\n",
        "        if self.verbose:\n",
        "            print('  # triangle constr: ', n_triangle_constrs)\n",
        "\n",
        "        # Somewhat bloated just to get some vectorization / speed !\n",
        "        perms_ = perms(range(n), 3)\n",
        "\n",
        "        inds_a = np.ravel_multi_index(perms_.T[(0,1), :], (n, n))\n",
        "        inds_b = np.ravel_multi_index(perms_.T[(1,2), :], (n, n))\n",
        "        inds_c = np.ravel_multi_index(perms_.T[(2,0), :], (n, n))\n",
        "\n",
        "        row_inds = np.tile(np.arange(n_triangle_constrs), 3)\n",
        "        col_inds = np.hstack((inds_a, inds_b, inds_c))\n",
        "\n",
        "        triangle_constraints = sp.coo_matrix((np.ones(n_triangle_constrs*3),\n",
        "                                              (row_inds, col_inds)),\n",
        "                                              shape=(n_triangle_constrs, n*n))\n",
        "        end_time = time()\n",
        "        if self.verbose:\n",
        "            print(\"    Took {:.{prec}f} secs\".format(end_time - start_time, prec=3))\n",
        "\n",
        "\n",
        "        model += pairwise_constraints * x == np.ones(n_pairwise_constr)\n",
        "        model += triangle_constraints * x >= np.ones(n_triangle_constrs)\n",
        "\n",
        "        if self.condorcet_red:\n",
        "            I, J, V = sp.find(condorcet_red_mat)\n",
        "            indices_pos = np.ravel_multi_index([J, I], (n,n))\n",
        "            indices_neg = np.ravel_multi_index([I, J], (n,n))\n",
        "            nnz = len(indices_pos)\n",
        "\n",
        "            if self.verbose:\n",
        "                print('  Extended Condorcet reductions: {} * 2 relations fixed'.format(nnz))\n",
        "\n",
        "            lhs = sp.coo_matrix((np.ones(nnz*2),\n",
        "                        (np.arange(nnz*2),\n",
        "                         np.hstack((indices_pos, indices_neg)))),\n",
        "                  shape=(nnz*2, n*n))\n",
        "            rhs = np.hstack((np.ones(len(indices_pos)), np.zeros(len(indices_neg))))\n",
        "            model += lhs * x == rhs\n",
        "\n",
        "        cbcModel = model.getCbcModel()  # Clp -> Cbc model / LP -> MIP\n",
        "        cbcModel.logLevel = self.verbose\n",
        "\n",
        "        if self.verbose:\n",
        "            print('Solve: run MIP\\n')\n",
        "        start_time = time()\n",
        "        status = cbcModel.solve()           #-> \"Call CbcMain. Solve the problem\n",
        "                                            #   \"using the same parameters used\n",
        "                                            #   \"by CbcSolver.\"\n",
        "                                            # This deviates from cylp's docs which are sparse!\n",
        "                                            # -> preprocessing will be used and is very important!\n",
        "        end_time = time()\n",
        "        if self.verbose:\n",
        "            print(\"  CoinOR CBC used {:.{prec}f} secs\".format(end_time - start_time, prec=3))\n",
        "\n",
        "        x_sol = cbcModel.primalVariableSolution['x']\n",
        "        self.obj_sol = cbcModel.objectiveValue\n",
        "        x = np.array(x_sol).reshape((n, n)).round().astype(int)\n",
        "        self.aggr_rank = np.argsort(x.sum(axis=0))[::-1]\n",
        "\n",
        "    def postprocess(self):\n",
        "        if self.verbose:\n",
        "            print('Postprocessing')\n",
        "        self.final_solution = np.vectorize(self.id2orig.get)(self.aggr_rank)\n",
        "        if self.verbose:\n",
        "            print('    ... finished')\n",
        "\n",
        "    def print_sol(self):\n",
        "        print('--------')\n",
        "        print('SOLUTION')\n",
        "        print('  objective: ', self.obj_sol)\n",
        "        print('  aggregation: ')\n",
        "        print(self.final_solution)\n",
        "\n",
        "\n",
        "\n",
        "\n"
      ],
      "metadata": {
        "id": "jgIrdPQEKI9T"
      },
      "execution_count": null,
      "outputs": []
    },
    {
      "cell_type": "code",
      "source": [
        "pip install cylp"
      ],
      "metadata": {
        "colab": {
          "base_uri": "https://localhost:8080/"
        },
        "id": "fSDPaXFMw2ut",
        "outputId": "968e418c-453d-4ab7-a9e6-9eebeae87a67"
      },
      "execution_count": null,
      "outputs": [
        {
          "output_type": "stream",
          "name": "stdout",
          "text": [
            "Looking in indexes: https://pypi.org/simple, https://us-python.pkg.dev/colab-wheels/public/simple/\n",
            "Requirement already satisfied: cylp in /usr/local/lib/python3.8/dist-packages (0.91.5)\n",
            "Requirement already satisfied: scipy>=0.10.0 in /usr/local/lib/python3.8/dist-packages (from cylp) (1.7.3)\n",
            "Requirement already satisfied: numpy>=1.5.0 in /usr/local/lib/python3.8/dist-packages (from cylp) (1.22.4)\n"
          ]
        }
      ]
    },
    {
      "cell_type": "code",
      "source": [
        "pip install cylp"
      ],
      "metadata": {
        "colab": {
          "base_uri": "https://localhost:8080/"
        },
        "id": "uvAS_tzhYQG5",
        "outputId": "688b9a4d-9aa9-4d94-e3e6-34ed7e1d8788"
      },
      "execution_count": null,
      "outputs": [
        {
          "output_type": "stream",
          "name": "stdout",
          "text": [
            "Looking in indexes: https://pypi.org/simple, https://us-python.pkg.dev/colab-wheels/public/simple/\n",
            "Collecting cylp\n",
            "  Downloading cylp-0.91.5-cp38-cp38-manylinux_2_17_x86_64.manylinux2014_x86_64.whl (9.4 MB)\n",
            "\u001b[2K     \u001b[90m━━━━━━━━━━━━━━━━━━━━━━━━━━━━━━━━━━━━━━━━\u001b[0m \u001b[32m9.4/9.4 MB\u001b[0m \u001b[31m46.6 MB/s\u001b[0m eta \u001b[36m0:00:00\u001b[0m\n",
            "\u001b[?25hRequirement already satisfied: scipy>=0.10.0 in /usr/local/lib/python3.8/dist-packages (from cylp) (1.7.3)\n",
            "Requirement already satisfied: numpy>=1.5.0 in /usr/local/lib/python3.8/dist-packages (from cylp) (1.21.6)\n",
            "Installing collected packages: cylp\n",
            "Successfully installed cylp-0.91.5\n"
          ]
        }
      ]
    },
    {
      "cell_type": "code",
      "source": [
        "KemenyRanking('/content/Final-last.txt')\n",
        "\n"
      ],
      "metadata": {
        "colab": {
          "base_uri": "https://localhost:8080/"
        },
        "id": "MMjSmQnfQdU-",
        "outputId": "dfca11fe-7bac-42d7-91e5-b5b54afd980d"
      },
      "execution_count": null,
      "outputs": [
        {
          "output_type": "stream",
          "name": "stdout",
          "text": [
            "Parse input\n",
            "     ... finished\n",
            "Problem statistics\n",
            "  3 votes\n",
            "  8 candidates\n",
            "Build incidence-matrix\n",
            "     ... finished\n",
            "Solve: build model\n",
            "  # pairwise constr:  28\n",
            "    Took 0.002 secs\n",
            "  # triangle constr:  336\n",
            "    Took 0.002 secs\n",
            "  Extended Condorcet reductions: 27 * 2 relations fixed\n",
            "Solve: run MIP\n",
            "\n",
            "  CoinOR CBC used 0.006 secs\n",
            "Postprocessing\n",
            "    ... finished\n",
            "--------\n",
            "SOLUTION\n",
            "  objective:  1.0\n",
            "  aggregation: \n",
            "['Agglomerative' 'Birch' 'k-means' 'FCM' 'K-medoid' 'GMM' 'DBSCAN'\n",
            " 'Optics']\n"
          ]
        },
        {
          "output_type": "execute_result",
          "data": {
            "text/plain": [
              "<__main__.KemenyRanking at 0x7fbd78205400>"
            ]
          },
          "metadata": {},
          "execution_count": 14
        }
      ]
    },
    {
      "cell_type": "code",
      "source": [
        "import numpy as np\n",
        "import scipy.sparse as sp\n",
        "from utils import combs\n",
        "\n",
        "\n",
        "def extended_condorcet_simple(rankings):\n",
        "    # assumes: cands -> 0,N-1\n",
        "    n = rankings.shape[1]\n",
        "    cands = np.arange(n)\n",
        "    pairs = combs(range(n), 2)\n",
        "\n",
        "    condorcet_rows, condorcet_cols = [], []\n",
        "\n",
        "    for cand, other_cand in pairs:\n",
        "        cand_pos = np.where(rankings == cand)[1]\n",
        "        other_pos = np.where(rankings == other_cand)[1]\n",
        "\n",
        "        if np.all(cand_pos < other_pos):\n",
        "            condorcet_rows.append(cand)\n",
        "            condorcet_cols.append(other_cand)\n",
        "        elif np.all(other_pos < cand_pos):\n",
        "            condorcet_rows.append(other_cand)\n",
        "            condorcet_cols.append(cand)\n",
        "\n",
        "    mat = sp.coo_matrix((np.ones(len(condorcet_rows)), (condorcet_rows, condorcet_cols)))\n",
        "    return mat\n"
      ],
      "metadata": {
        "colab": {
          "base_uri": "https://localhost:8080/",
          "height": 472
        },
        "id": "rE6NS5JQNidr",
        "outputId": "a2c1a321-e0b3-43a7-af47-83c99b88c871"
      },
      "execution_count": null,
      "outputs": [
        {
          "output_type": "error",
          "ename": "ImportError",
          "evalue": "ignored",
          "traceback": [
            "\u001b[0;31m---------------------------------------------------------------------------\u001b[0m",
            "\u001b[0;31mImportError\u001b[0m                               Traceback (most recent call last)",
            "\u001b[0;32m<ipython-input-43-56e03ce41f38>\u001b[0m in \u001b[0;36m<module>\u001b[0;34m\u001b[0m\n\u001b[1;32m      1\u001b[0m \u001b[0;32mimport\u001b[0m \u001b[0mnumpy\u001b[0m \u001b[0;32mas\u001b[0m \u001b[0mnp\u001b[0m\u001b[0;34m\u001b[0m\u001b[0;34m\u001b[0m\u001b[0m\n\u001b[1;32m      2\u001b[0m \u001b[0;32mimport\u001b[0m \u001b[0mscipy\u001b[0m\u001b[0;34m.\u001b[0m\u001b[0msparse\u001b[0m \u001b[0;32mas\u001b[0m \u001b[0msp\u001b[0m\u001b[0;34m\u001b[0m\u001b[0;34m\u001b[0m\u001b[0m\n\u001b[0;32m----> 3\u001b[0;31m \u001b[0;32mfrom\u001b[0m \u001b[0mutils\u001b[0m \u001b[0;32mimport\u001b[0m \u001b[0mcombs\u001b[0m\u001b[0;34m\u001b[0m\u001b[0;34m\u001b[0m\u001b[0m\n\u001b[0m\u001b[1;32m      4\u001b[0m \u001b[0;34m\u001b[0m\u001b[0m\n\u001b[1;32m      5\u001b[0m \u001b[0;34m\u001b[0m\u001b[0m\n",
            "\u001b[0;31mImportError\u001b[0m: cannot import name 'combs' from 'utils' (/usr/local/lib/python3.8/dist-packages/utils/__init__.py)",
            "",
            "\u001b[0;31m---------------------------------------------------------------------------\u001b[0;32m\nNOTE: If your import is failing due to a missing package, you can\nmanually install dependencies using either !pip or !apt.\n\nTo view examples of installing some common dependencies, click the\n\"Open Examples\" button below.\n\u001b[0;31m---------------------------------------------------------------------------\u001b[0m\n"
          ],
          "errorDetails": {
            "actions": [
              {
                "action": "open_url",
                "actionText": "Open Examples",
                "url": "/notebooks/snippets/importing_libraries.ipynb"
              }
            ]
          }
        }
      ]
    },
    {
      "cell_type": "code",
      "source": [
        "import kemeny\n"
      ],
      "metadata": {
        "colab": {
          "base_uri": "https://localhost:8080/",
          "height": 526
        },
        "id": "L42zzSR2P7zA",
        "outputId": "74ec7df1-663b-4c85-8f63-922c29d7ef09"
      },
      "execution_count": null,
      "outputs": [
        {
          "output_type": "error",
          "ename": "ImportError",
          "evalue": "ignored",
          "traceback": [
            "\u001b[0;31m---------------------------------------------------------------------------\u001b[0m",
            "\u001b[0;31mImportError\u001b[0m                               Traceback (most recent call last)",
            "\u001b[0;32m<ipython-input-48-11fb6e6580fb>\u001b[0m in \u001b[0;36m<module>\u001b[0;34m\u001b[0m\n\u001b[0;32m----> 1\u001b[0;31m \u001b[0;32mimport\u001b[0m \u001b[0mkemeny\u001b[0m\u001b[0;34m\u001b[0m\u001b[0;34m\u001b[0m\u001b[0m\n\u001b[0m",
            "\u001b[0;32m/content/kemeny.py\u001b[0m in \u001b[0;36m<module>\u001b[0;34m\u001b[0m\n\u001b[1;32m      7\u001b[0m \u001b[0;32mimport\u001b[0m \u001b[0mnumpy\u001b[0m \u001b[0;32mas\u001b[0m \u001b[0mnp\u001b[0m\u001b[0;34m\u001b[0m\u001b[0;34m\u001b[0m\u001b[0m\n\u001b[1;32m      8\u001b[0m \u001b[0;32mimport\u001b[0m \u001b[0mscipy\u001b[0m\u001b[0;34m.\u001b[0m\u001b[0msparse\u001b[0m \u001b[0;32mas\u001b[0m \u001b[0msp\u001b[0m\u001b[0;34m\u001b[0m\u001b[0;34m\u001b[0m\u001b[0m\n\u001b[0;32m----> 9\u001b[0;31m \u001b[0;32mfrom\u001b[0m \u001b[0mutils\u001b[0m \u001b[0;32mimport\u001b[0m \u001b[0mcombs\u001b[0m\u001b[0;34m,\u001b[0m \u001b[0mperms\u001b[0m\u001b[0;34m\u001b[0m\u001b[0;34m\u001b[0m\u001b[0m\n\u001b[0m\u001b[1;32m     10\u001b[0m \u001b[0;32mfrom\u001b[0m \u001b[0mreductions\u001b[0m \u001b[0;32mimport\u001b[0m \u001b[0mextended_condorcet_simple\u001b[0m\u001b[0;34m\u001b[0m\u001b[0;34m\u001b[0m\u001b[0m\n\u001b[1;32m     11\u001b[0m \u001b[0;34m\u001b[0m\u001b[0m\n",
            "\u001b[0;31mImportError\u001b[0m: cannot import name 'combs' from 'utils' (/usr/local/lib/python3.8/dist-packages/utils/__init__.py)",
            "",
            "\u001b[0;31m---------------------------------------------------------------------------\u001b[0;32m\nNOTE: If your import is failing due to a missing package, you can\nmanually install dependencies using either !pip or !apt.\n\nTo view examples of installing some common dependencies, click the\n\"Open Examples\" button below.\n\u001b[0;31m---------------------------------------------------------------------------\u001b[0m\n"
          ],
          "errorDetails": {
            "actions": [
              {
                "action": "open_url",
                "actionText": "Open Examples",
                "url": "/notebooks/snippets/importing_libraries.ipynb"
              }
            ]
          }
        }
      ]
    },
    {
      "cell_type": "code",
      "source": [
        "import itertools\n",
        "import numpy as np\n",
        "\n",
        "\n",
        "def combs(a, r):\n",
        "    \"\"\"\n",
        "    Return successive r-length combinations of elements in the array a.\n",
        "    Should produce the same output as array(list(combinations(a, r))), but\n",
        "    faster.\n",
        "    \"\"\"\n",
        "    a = np.asarray(a)\n",
        "    dt = np.dtype([('', a.dtype)]*r)\n",
        "    b = np.fromiter(itertools.combinations(a, r), dt)\n",
        "    b_ = b.view(a.dtype).reshape(-1, r)\n",
        "    return b_\n",
        "\n",
        "def perms(a, r):\n",
        "    \"\"\"\n",
        "    Same as above with permutations\n",
        "    \"\"\"\n",
        "    a = np.asarray(a)\n",
        "    dt = np.dtype([('', a.dtype)]*r)\n",
        "    b = np.fromiter(itertools.permutations(a, r), dt)\n",
        "    b_ = b.view(a.dtype).reshape(-1, r)\n",
        "    return b_\n"
      ],
      "metadata": {
        "id": "ctoaMfnwNnNl"
      },
      "execution_count": null,
      "outputs": []
    },
    {
      "cell_type": "code",
      "source": [
        "!pip install fairlearn.reductions"
      ],
      "metadata": {
        "colab": {
          "base_uri": "https://localhost:8080/"
        },
        "id": "HMpD3E_VKkRn",
        "outputId": "94dd3204-bcf7-442a-f128-02e9481f2b9f"
      },
      "execution_count": null,
      "outputs": [
        {
          "output_type": "stream",
          "name": "stdout",
          "text": [
            "Looking in indexes: https://pypi.org/simple, https://us-python.pkg.dev/colab-wheels/public/simple/\n",
            "\u001b[31mERROR: Could not find a version that satisfies the requirement fairlearn.reductions (from versions: none)\u001b[0m\u001b[31m\n",
            "\u001b[0m\u001b[31mERROR: No matching distribution found for fairlearn.reductions\u001b[0m\u001b[31m\n",
            "\u001b[0m"
          ]
        }
      ]
    },
    {
      "cell_type": "code",
      "source": [
        "!pip install cylp"
      ],
      "metadata": {
        "colab": {
          "base_uri": "https://localhost:8080/"
        },
        "id": "4GmSwCUOKP9G",
        "outputId": "6fd118d4-f3ec-4a75-884e-822aa64945bc"
      },
      "execution_count": null,
      "outputs": [
        {
          "output_type": "stream",
          "name": "stdout",
          "text": [
            "Looking in indexes: https://pypi.org/simple, https://us-python.pkg.dev/colab-wheels/public/simple/\n",
            "Collecting cylp\n",
            "  Downloading cylp-0.91.5-cp38-cp38-manylinux_2_17_x86_64.manylinux2014_x86_64.whl (9.4 MB)\n",
            "\u001b[2K     \u001b[90m━━━━━━━━━━━━━━━━━━━━━━━━━━━━━━━━━━━━━━━━\u001b[0m \u001b[32m9.4/9.4 MB\u001b[0m \u001b[31m56.3 MB/s\u001b[0m eta \u001b[36m0:00:00\u001b[0m\n",
            "\u001b[?25hRequirement already satisfied: scipy>=0.10.0 in /usr/local/lib/python3.8/dist-packages (from cylp) (1.7.3)\n",
            "Requirement already satisfied: numpy>=1.5.0 in /usr/local/lib/python3.8/dist-packages (from cylp) (1.21.6)\n",
            "Installing collected packages: cylp\n",
            "Successfully installed cylp-0.91.5\n"
          ]
        }
      ]
    }
  ]
}